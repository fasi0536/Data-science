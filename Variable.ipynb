{
 "cells": [
  {
   "cell_type": "code",
   "execution_count": 1,
   "id": "62512c94",
   "metadata": {},
   "outputs": [
    {
     "data": {
      "text/plain": [
       "5"
      ]
     },
     "execution_count": 1,
     "metadata": {},
     "output_type": "execute_result"
    }
   ],
   "source": [
    "v=5\n",
    "v"
   ]
  },
  {
   "cell_type": "code",
   "execution_count": 3,
   "id": "2b9bab41",
   "metadata": {},
   "outputs": [
    {
     "data": {
      "text/plain": [
       "2031217148272"
      ]
     },
     "execution_count": 3,
     "metadata": {},
     "output_type": "execute_result"
    }
   ],
   "source": [
    "id(v)"
   ]
  },
  {
   "cell_type": "code",
   "execution_count": 4,
   "id": "3aede71d",
   "metadata": {},
   "outputs": [],
   "source": [
    "# id is the address of the memory location"
   ]
  },
  {
   "cell_type": "code",
   "execution_count": 5,
   "id": "cc186a97",
   "metadata": {
    "collapsed": true
   },
   "outputs": [
    {
     "data": {
      "text/plain": [
       "'1. A var nam does start with number\\n   2. A var name start with name or underscore\\n   3. variable is a case sensitive(if you mention var in lowercase and call the value in lowercase only)\\n   4. special char are not allowed in variable. like v@ = 10\\n   '"
      ]
     },
     "execution_count": 5,
     "metadata": {},
     "output_type": "execute_result"
    }
   ],
   "source": [
    "# Variables rules\n",
    "'''1. A var nam does start with number\n",
    "   2. A var name start with name or underscore\n",
    "   3. variable is a case sensitive(if you mention var in lowercase and call the value in lowercase only)\n",
    "   4. special char are not allowed in variable. like v@ = 10\n",
    "   '''"
   ]
  },
  {
   "cell_type": "code",
   "execution_count": 6,
   "id": "db96ad13",
   "metadata": {},
   "outputs": [
    {
     "data": {
      "text/plain": [
       "10"
      ]
     },
     "execution_count": 6,
     "metadata": {},
     "output_type": "execute_result"
    }
   ],
   "source": [
    "_a=10\n",
    "_a"
   ]
  },
  {
   "cell_type": "code",
   "execution_count": null,
   "id": "603c50ba",
   "metadata": {},
   "outputs": [],
   "source": [
    "# Reserved words or keywords"
   ]
  },
  {
   "cell_type": "code",
   "execution_count": 7,
   "id": "e45f97f8",
   "metadata": {},
   "outputs": [
    {
     "data": {
      "text/plain": [
       "['False',\n",
       " 'None',\n",
       " 'True',\n",
       " 'and',\n",
       " 'as',\n",
       " 'assert',\n",
       " 'async',\n",
       " 'await',\n",
       " 'break',\n",
       " 'class',\n",
       " 'continue',\n",
       " 'def',\n",
       " 'del',\n",
       " 'elif',\n",
       " 'else',\n",
       " 'except',\n",
       " 'finally',\n",
       " 'for',\n",
       " 'from',\n",
       " 'global',\n",
       " 'if',\n",
       " 'import',\n",
       " 'in',\n",
       " 'is',\n",
       " 'lambda',\n",
       " 'nonlocal',\n",
       " 'not',\n",
       " 'or',\n",
       " 'pass',\n",
       " 'raise',\n",
       " 'return',\n",
       " 'try',\n",
       " 'while',\n",
       " 'with',\n",
       " 'yield']"
      ]
     },
     "execution_count": 7,
     "metadata": {},
     "output_type": "execute_result"
    }
   ],
   "source": [
    "import keyword\n",
    "keyword.kwlist"
   ]
  },
  {
   "cell_type": "code",
   "execution_count": 8,
   "id": "d843c978",
   "metadata": {},
   "outputs": [
    {
     "data": {
      "text/plain": [
       "35"
      ]
     },
     "execution_count": 8,
     "metadata": {},
     "output_type": "execute_result"
    }
   ],
   "source": [
    "len(keyword.kwlist)"
   ]
  },
  {
   "cell_type": "code",
   "execution_count": 3,
   "id": "f5656ba7",
   "metadata": {},
   "outputs": [],
   "source": [
    "a=2\n",
    "b=3\n",
    "c=10"
   ]
  },
  {
   "cell_type": "code",
   "execution_count": 20,
   "id": "fd843cbb",
   "metadata": {},
   "outputs": [],
   "source": [
    "c=a+b*(c)"
   ]
  },
  {
   "cell_type": "code",
   "execution_count": 21,
   "id": "724fa503",
   "metadata": {},
   "outputs": [
    {
     "data": {
      "text/plain": [
       "53"
      ]
     },
     "execution_count": 21,
     "metadata": {},
     "output_type": "execute_result"
    }
   ],
   "source": [
    "c"
   ]
  },
  {
   "cell_type": "code",
   "execution_count": 5,
   "id": "6416c0e3",
   "metadata": {},
   "outputs": [],
   "source": [
    "c=a+b"
   ]
  },
  {
   "cell_type": "code",
   "execution_count": 6,
   "id": "6a875b8f",
   "metadata": {},
   "outputs": [
    {
     "data": {
      "text/plain": [
       "5"
      ]
     },
     "execution_count": 6,
     "metadata": {},
     "output_type": "execute_result"
    }
   ],
   "source": [
    "c"
   ]
  },
  {
   "cell_type": "code",
   "execution_count": 7,
   "id": "475e95ec",
   "metadata": {},
   "outputs": [],
   "source": [
    "c=a+b*c"
   ]
  },
  {
   "cell_type": "code",
   "execution_count": 8,
   "id": "87c3dea8",
   "metadata": {},
   "outputs": [
    {
     "data": {
      "text/plain": [
       "17"
      ]
     },
     "execution_count": 8,
     "metadata": {},
     "output_type": "execute_result"
    }
   ],
   "source": [
    "c"
   ]
  },
  {
   "cell_type": "code",
   "execution_count": 9,
   "id": "be44ccaa",
   "metadata": {},
   "outputs": [],
   "source": [
    "q=10\n",
    "r=3\n",
    "s=4"
   ]
  },
  {
   "cell_type": "code",
   "execution_count": 18,
   "id": "2986eb4b",
   "metadata": {},
   "outputs": [],
   "source": [
    "w=(q+r*s)*r"
   ]
  },
  {
   "cell_type": "code",
   "execution_count": 19,
   "id": "76eb8069",
   "metadata": {},
   "outputs": [
    {
     "data": {
      "text/plain": [
       "66"
      ]
     },
     "execution_count": 19,
     "metadata": {},
     "output_type": "execute_result"
    }
   ],
   "source": [
    "w"
   ]
  },
  {
   "cell_type": "code",
   "execution_count": 13,
   "id": "4387c7f1",
   "metadata": {},
   "outputs": [],
   "source": [
    "_a= 100\n",
    "_b= 200\n",
    "_c=(_a-_b)/2"
   ]
  },
  {
   "cell_type": "code",
   "execution_count": 14,
   "id": "df8c6e20",
   "metadata": {},
   "outputs": [
    {
     "data": {
      "text/plain": [
       "-50.0"
      ]
     },
     "execution_count": 14,
     "metadata": {},
     "output_type": "execute_result"
    }
   ],
   "source": [
    "_c"
   ]
  },
  {
   "cell_type": "code",
   "execution_count": 15,
   "id": "c26b567b",
   "metadata": {},
   "outputs": [],
   "source": [
    "_c=(_a+_b*2)/3"
   ]
  },
  {
   "cell_type": "code",
   "execution_count": 16,
   "id": "22f88293",
   "metadata": {},
   "outputs": [
    {
     "data": {
      "text/plain": [
       "166.66666666666666"
      ]
     },
     "execution_count": 16,
     "metadata": {},
     "output_type": "execute_result"
    }
   ],
   "source": [
    "_c"
   ]
  },
  {
   "cell_type": "code",
   "execution_count": 17,
   "id": "31e97111",
   "metadata": {},
   "outputs": [
    {
     "data": {
      "text/plain": [
       "166.66666666666666"
      ]
     },
     "execution_count": 17,
     "metadata": {},
     "output_type": "execute_result"
    }
   ],
   "source": [
    "500/3"
   ]
  },
  {
   "cell_type": "code",
   "execution_count": 22,
   "id": "51b1d1c8",
   "metadata": {},
   "outputs": [
    {
     "data": {
      "text/plain": [
       "'python'"
      ]
     },
     "execution_count": 22,
     "metadata": {},
     "output_type": "execute_result"
    }
   ],
   "source": [
    "pre = 'pyt' 'hon'\n",
    "pre"
   ]
  },
  {
   "cell_type": "code",
   "execution_count": 25,
   "id": "d34e9993",
   "metadata": {},
   "outputs": [
    {
     "data": {
      "text/plain": [
       "'good'"
      ]
     },
     "execution_count": 25,
     "metadata": {},
     "output_type": "execute_result"
    }
   ],
   "source": [
    "pre1 = 'go''od'\n",
    "pre1"
   ]
  },
  {
   "cell_type": "code",
   "execution_count": 27,
   "id": "43d446d6",
   "metadata": {},
   "outputs": [
    {
     "name": "stdout",
     "output_type": "stream",
     "text": [
      "good\t boy\n"
     ]
    }
   ],
   "source": [
    "print('good\\t','boy')"
   ]
  },
  {
   "cell_type": "code",
   "execution_count": 32,
   "id": "0240b58c",
   "metadata": {},
   "outputs": [
    {
     "name": "stdout",
     "output_type": "stream",
     "text": [
      "doesn't know\n"
     ]
    }
   ],
   "source": [
    "print(\"doesn\\'t know\")"
   ]
  },
  {
   "cell_type": "code",
   "execution_count": 34,
   "id": "5af72a3f",
   "metadata": {},
   "outputs": [
    {
     "name": "stdout",
     "output_type": "stream",
     "text": [
      "He is a boy\n",
      "She is a girl\n"
     ]
    }
   ],
   "source": [
    "print(\"He is a boy\\nShe is a girl\")"
   ]
  },
  {
   "cell_type": "code",
   "execution_count": 36,
   "id": "ba0ea35c",
   "metadata": {},
   "outputs": [
    {
     "name": "stdout",
     "output_type": "stream",
     "text": [
      "how are you FAISAL\n"
     ]
    }
   ],
   "source": [
    "v1='FAISAL'\n",
    "print(f'how are you {v1}')"
   ]
  },
  {
   "cell_type": "code",
   "execution_count": 37,
   "id": "b5c52a8d",
   "metadata": {},
   "outputs": [
    {
     "name": "stdout",
     "output_type": "stream",
     "text": [
      "FAISAL you are a good person, it is your id number 22\n"
     ]
    }
   ],
   "source": [
    "v2=[12,22,3,4,5]\n",
    "print(f'{v1} you are a good person, it is your id number {v2[1]}')"
   ]
  },
  {
   "cell_type": "code",
   "execution_count": 39,
   "id": "392b3820",
   "metadata": {},
   "outputs": [
    {
     "name": "stdout",
     "output_type": "stream",
     "text": [
      "couldn't shouldn't\n"
     ]
    }
   ],
   "source": [
    "print(\"couldn\\'t shouldn\\'t\")"
   ]
  },
  {
   "cell_type": "code",
   "execution_count": null,
   "id": "510d670e",
   "metadata": {},
   "outputs": [],
   "source": [
    "\n"
   ]
  }
 ],
 "metadata": {
  "kernelspec": {
   "display_name": "Python 3 (ipykernel)",
   "language": "python",
   "name": "python3"
  },
  "language_info": {
   "codemirror_mode": {
    "name": "ipython",
    "version": 3
   },
   "file_extension": ".py",
   "mimetype": "text/x-python",
   "name": "python",
   "nbconvert_exporter": "python",
   "pygments_lexer": "ipython3",
   "version": "3.10.9"
  }
 },
 "nbformat": 4,
 "nbformat_minor": 5
}
