{
 "cells": [
  {
   "cell_type": "code",
   "execution_count": 1,
   "id": "86b4c025",
   "metadata": {},
   "outputs": [
    {
     "data": {
      "text/plain": [
       "'3.10.9 | packaged by Anaconda, Inc. | (main, Mar  1 2023, 18:18:15) [MSC v.1916 64 bit (AMD64)]'"
      ]
     },
     "execution_count": 1,
     "metadata": {},
     "output_type": "execute_result"
    }
   ],
   "source": [
    "import sys\n",
    "sys.version"
   ]
  },
  {
   "cell_type": "markdown",
   "id": "a5e10aab",
   "metadata": {},
   "source": [
    "## Data Structure"
   ]
  },
  {
   "cell_type": "code",
   "execution_count": 2,
   "id": "3ae185e7",
   "metadata": {},
   "outputs": [
    {
     "data": {
      "text/plain": [
       "'List\\n   tuple\\n   set\\n   dict'"
      ]
     },
     "execution_count": 2,
     "metadata": {},
     "output_type": "execute_result"
    }
   ],
   "source": [
    "# Built-in datatype\n",
    "\"\"\"List\n",
    "   tuple\n",
    "   set\n",
    "   dict\"\"\""
   ]
  },
  {
   "cell_type": "code",
   "execution_count": 3,
   "id": "a105dec3",
   "metadata": {},
   "outputs": [],
   "source": [
    "l1 = []"
   ]
  },
  {
   "cell_type": "code",
   "execution_count": 4,
   "id": "1b5bce84",
   "metadata": {},
   "outputs": [
    {
     "data": {
      "text/plain": [
       "list"
      ]
     },
     "execution_count": 4,
     "metadata": {},
     "output_type": "execute_result"
    }
   ],
   "source": [
    "type(l1)"
   ]
  },
  {
   "cell_type": "code",
   "execution_count": 5,
   "id": "1465769e",
   "metadata": {},
   "outputs": [],
   "source": [
    "l1.append(100)"
   ]
  },
  {
   "cell_type": "code",
   "execution_count": 6,
   "id": "afe705ce",
   "metadata": {},
   "outputs": [],
   "source": [
    "l1.append(200)"
   ]
  },
  {
   "cell_type": "code",
   "execution_count": 7,
   "id": "5a044e55",
   "metadata": {},
   "outputs": [],
   "source": [
    "l1.append(300)\n",
    "l1.append(400)\n",
    "l1.append(500)"
   ]
  },
  {
   "cell_type": "code",
   "execution_count": 8,
   "id": "c1de037e",
   "metadata": {},
   "outputs": [
    {
     "data": {
      "text/plain": [
       "[100, 200, 300, 400, 500]"
      ]
     },
     "execution_count": 8,
     "metadata": {},
     "output_type": "execute_result"
    }
   ],
   "source": [
    "l1"
   ]
  },
  {
   "cell_type": "code",
   "execution_count": 9,
   "id": "327d4a78",
   "metadata": {},
   "outputs": [],
   "source": [
    "l1.sort()"
   ]
  },
  {
   "cell_type": "code",
   "execution_count": 10,
   "id": "d0852391",
   "metadata": {},
   "outputs": [
    {
     "data": {
      "text/plain": [
       "[100, 200, 300, 400, 500]"
      ]
     },
     "execution_count": 10,
     "metadata": {},
     "output_type": "execute_result"
    }
   ],
   "source": [
    "l1"
   ]
  },
  {
   "cell_type": "code",
   "execution_count": 11,
   "id": "ee66bbf7",
   "metadata": {},
   "outputs": [],
   "source": [
    "l1.reverse()"
   ]
  },
  {
   "cell_type": "code",
   "execution_count": 12,
   "id": "cfe3c0ee",
   "metadata": {},
   "outputs": [
    {
     "data": {
      "text/plain": [
       "[500, 400, 300, 200, 100]"
      ]
     },
     "execution_count": 12,
     "metadata": {},
     "output_type": "execute_result"
    }
   ],
   "source": [
    "l1"
   ]
  },
  {
   "cell_type": "code",
   "execution_count": 14,
   "id": "6ab5cdb0",
   "metadata": {},
   "outputs": [],
   "source": [
    "l1.remove(500)"
   ]
  },
  {
   "cell_type": "code",
   "execution_count": 15,
   "id": "b226a289",
   "metadata": {},
   "outputs": [
    {
     "data": {
      "text/plain": [
       "[400, 300, 200, 100]"
      ]
     },
     "execution_count": 15,
     "metadata": {},
     "output_type": "execute_result"
    }
   ],
   "source": [
    "l1 "
   ]
  },
  {
   "cell_type": "markdown",
   "id": "e59b6fb6",
   "metadata": {},
   "source": [
    "## -----------> LIST"
   ]
  },
  {
   "cell_type": "code",
   "execution_count": 16,
   "id": "3c6b1a63",
   "metadata": {},
   "outputs": [],
   "source": [
    "ls1 = []"
   ]
  },
  {
   "cell_type": "code",
   "execution_count": 17,
   "id": "7f2a74c9",
   "metadata": {},
   "outputs": [],
   "source": [
    "ls1.append(100)\n",
    "ls1.append(200)\n",
    "ls1.append(900)\n",
    "ls1.append(500)\n",
    "ls1.append(800)"
   ]
  },
  {
   "cell_type": "code",
   "execution_count": 18,
   "id": "c1a6355f",
   "metadata": {},
   "outputs": [
    {
     "data": {
      "text/plain": [
       "[100, 200, 900, 500, 800]"
      ]
     },
     "execution_count": 18,
     "metadata": {},
     "output_type": "execute_result"
    }
   ],
   "source": [
    "ls1 "
   ]
  },
  {
   "cell_type": "code",
   "execution_count": 19,
   "id": "3e729458",
   "metadata": {},
   "outputs": [
    {
     "name": "stdout",
     "output_type": "stream",
     "text": [
      "[100, 200, 900, 500, 800]\n"
     ]
    }
   ],
   "source": [
    "ls2 = ls1.copy()\n",
    "print(ls2)"
   ]
  },
  {
   "cell_type": "code",
   "execution_count": 20,
   "id": "921f52c6",
   "metadata": {},
   "outputs": [
    {
     "data": {
      "text/plain": [
       "False"
      ]
     },
     "execution_count": 20,
     "metadata": {},
     "output_type": "execute_result"
    }
   ],
   "source": [
    "ls1!=ls2"
   ]
  },
  {
   "cell_type": "code",
   "execution_count": 21,
   "id": "560c4463",
   "metadata": {},
   "outputs": [
    {
     "data": {
      "text/plain": [
       "True"
      ]
     },
     "execution_count": 21,
     "metadata": {},
     "output_type": "execute_result"
    }
   ],
   "source": [
    "id(ls1)!=id(ls2)"
   ]
  },
  {
   "cell_type": "code",
   "execution_count": 22,
   "id": "2b5daa12",
   "metadata": {},
   "outputs": [
    {
     "data": {
      "text/plain": [
       "2187989646784"
      ]
     },
     "execution_count": 22,
     "metadata": {},
     "output_type": "execute_result"
    }
   ],
   "source": [
    "id(ls1)"
   ]
  },
  {
   "cell_type": "code",
   "execution_count": 23,
   "id": "601448a9",
   "metadata": {},
   "outputs": [
    {
     "data": {
      "text/plain": [
       "2187989900096"
      ]
     },
     "execution_count": 23,
     "metadata": {},
     "output_type": "execute_result"
    }
   ],
   "source": [
    "id(ls2)"
   ]
  },
  {
   "cell_type": "code",
   "execution_count": 26,
   "id": "996c5f29",
   "metadata": {},
   "outputs": [
    {
     "data": {
      "text/plain": [
       "True"
      ]
     },
     "execution_count": 26,
     "metadata": {},
     "output_type": "execute_result"
    }
   ],
   "source": [
    "ls2[3]==500"
   ]
  },
  {
   "cell_type": "code",
   "execution_count": 28,
   "id": "9aae9ebc",
   "metadata": {},
   "outputs": [
    {
     "ename": "AttributeError",
     "evalue": "'int' object has no attribute 'replace'",
     "output_type": "error",
     "traceback": [
      "\u001b[1;31m---------------------------------------------------------------------------\u001b[0m",
      "\u001b[1;31mAttributeError\u001b[0m                            Traceback (most recent call last)",
      "Cell \u001b[1;32mIn[28], line 1\u001b[0m\n\u001b[1;32m----> 1\u001b[0m \u001b[38;5;28mstr\u001b[39m(\u001b[43mls2\u001b[49m\u001b[43m[\u001b[49m\u001b[38;5;241;43m3\u001b[39;49m\u001b[43m]\u001b[49m\u001b[38;5;241;43m.\u001b[39;49m\u001b[43mreplace\u001b[49m(\u001b[38;5;124m\"\u001b[39m\u001b[38;5;124m500\u001b[39m\u001b[38;5;124m\"\u001b[39m,\u001b[38;5;124m\"\u001b[39m\u001b[38;5;124m600\u001b[39m\u001b[38;5;124m\"\u001b[39m))\n",
      "\u001b[1;31mAttributeError\u001b[0m: 'int' object has no attribute 'replace'"
     ]
    }
   ],
   "source": [
    "str(ls2[3].replace(\"500\",\"600\"))"
   ]
  },
  {
   "cell_type": "code",
   "execution_count": null,
   "id": "500ae0b4",
   "metadata": {},
   "outputs": [],
   "source": [
    "ls2"
   ]
  },
  {
   "cell_type": "code",
   "execution_count": null,
   "id": "63f9a2c4",
   "metadata": {},
   "outputs": [],
   "source": [
    "ls[2]=500"
   ]
  },
  {
   "cell_type": "code",
   "execution_count": 29,
   "id": "a1676e0e",
   "metadata": {},
   "outputs": [
    {
     "data": {
      "text/plain": [
       "[100, 200, 900, 500, 800]"
      ]
     },
     "execution_count": 29,
     "metadata": {},
     "output_type": "execute_result"
    }
   ],
   "source": [
    "ls2"
   ]
  },
  {
   "cell_type": "code",
   "execution_count": 32,
   "id": "8dd654a7",
   "metadata": {},
   "outputs": [],
   "source": [
    "ls2[2]=500"
   ]
  },
  {
   "cell_type": "code",
   "execution_count": 33,
   "id": "710c1b7a",
   "metadata": {},
   "outputs": [
    {
     "data": {
      "text/plain": [
       "[100, 200, 500, 500, 800]"
      ]
     },
     "execution_count": 33,
     "metadata": {},
     "output_type": "execute_result"
    }
   ],
   "source": [
    "ls2"
   ]
  },
  {
   "cell_type": "code",
   "execution_count": 34,
   "id": "a781d8bb",
   "metadata": {},
   "outputs": [
    {
     "data": {
      "text/plain": [
       "[100, 200, 900, 500, 800]"
      ]
     },
     "execution_count": 34,
     "metadata": {},
     "output_type": "execute_result"
    }
   ],
   "source": [
    "ls1"
   ]
  },
  {
   "cell_type": "code",
   "execution_count": 35,
   "id": "bccdfa3b",
   "metadata": {},
   "outputs": [
    {
     "data": {
      "text/plain": [
       "[100, 200, 500, 500, 800]"
      ]
     },
     "execution_count": 35,
     "metadata": {},
     "output_type": "execute_result"
    }
   ],
   "source": [
    "ls2"
   ]
  },
  {
   "cell_type": "code",
   "execution_count": 36,
   "id": "3a665317",
   "metadata": {},
   "outputs": [
    {
     "data": {
      "text/plain": [
       "2"
      ]
     },
     "execution_count": 36,
     "metadata": {},
     "output_type": "execute_result"
    }
   ],
   "source": [
    "ls2.count(500)"
   ]
  },
  {
   "cell_type": "code",
   "execution_count": 37,
   "id": "8974e036",
   "metadata": {},
   "outputs": [
    {
     "data": {
      "text/plain": [
       "1"
      ]
     },
     "execution_count": 37,
     "metadata": {},
     "output_type": "execute_result"
    }
   ],
   "source": [
    "ls1.count(500)"
   ]
  },
  {
   "cell_type": "code",
   "execution_count": 39,
   "id": "31ffdaa5",
   "metadata": {},
   "outputs": [
    {
     "data": {
      "text/plain": [
       "False"
      ]
     },
     "execution_count": 39,
     "metadata": {},
     "output_type": "execute_result"
    }
   ],
   "source": [
    "ls1==ls2"
   ]
  },
  {
   "cell_type": "code",
   "execution_count": 40,
   "id": "4d6d55e1",
   "metadata": {},
   "outputs": [
    {
     "data": {
      "text/plain": [
       "True"
      ]
     },
     "execution_count": 40,
     "metadata": {},
     "output_type": "execute_result"
    }
   ],
   "source": [
    "ls1!=ls2"
   ]
  },
  {
   "cell_type": "code",
   "execution_count": 42,
   "id": "b8fb41c1",
   "metadata": {},
   "outputs": [
    {
     "data": {
      "text/plain": [
       "4"
      ]
     },
     "execution_count": 42,
     "metadata": {},
     "output_type": "execute_result"
    }
   ],
   "source": [
    "ls2.index(800)"
   ]
  },
  {
   "cell_type": "code",
   "execution_count": 43,
   "id": "27e4a762",
   "metadata": {},
   "outputs": [
    {
     "data": {
      "text/plain": [
       "800"
      ]
     },
     "execution_count": 43,
     "metadata": {},
     "output_type": "execute_result"
    }
   ],
   "source": [
    "ls2[4]"
   ]
  },
  {
   "cell_type": "code",
   "execution_count": 44,
   "id": "5fe754dc",
   "metadata": {},
   "outputs": [
    {
     "data": {
      "text/plain": [
       "[200]"
      ]
     },
     "execution_count": 44,
     "metadata": {},
     "output_type": "execute_result"
    }
   ],
   "source": [
    "ls2[1:2]"
   ]
  },
  {
   "cell_type": "code",
   "execution_count": 45,
   "id": "1b65620d",
   "metadata": {},
   "outputs": [],
   "source": [
    "ls2.clear()"
   ]
  },
  {
   "cell_type": "code",
   "execution_count": 46,
   "id": "0eec5885",
   "metadata": {},
   "outputs": [
    {
     "data": {
      "text/plain": [
       "[]"
      ]
     },
     "execution_count": 46,
     "metadata": {},
     "output_type": "execute_result"
    }
   ],
   "source": [
    "ls2"
   ]
  },
  {
   "cell_type": "code",
   "execution_count": 47,
   "id": "31276066",
   "metadata": {},
   "outputs": [],
   "source": [
    "ls2.insert(2,10)"
   ]
  },
  {
   "cell_type": "code",
   "execution_count": 48,
   "id": "b0bd980c",
   "metadata": {},
   "outputs": [
    {
     "data": {
      "text/plain": [
       "[10]"
      ]
     },
     "execution_count": 48,
     "metadata": {},
     "output_type": "execute_result"
    }
   ],
   "source": [
    "ls2"
   ]
  },
  {
   "cell_type": "code",
   "execution_count": 50,
   "id": "57536213",
   "metadata": {},
   "outputs": [
    {
     "data": {
      "text/plain": [
       "0"
      ]
     },
     "execution_count": 50,
     "metadata": {},
     "output_type": "execute_result"
    }
   ],
   "source": [
    "ls2.index(10)"
   ]
  },
  {
   "cell_type": "code",
   "execution_count": 51,
   "id": "b800814b",
   "metadata": {},
   "outputs": [],
   "source": [
    "ls1.insert(2,700)"
   ]
  },
  {
   "cell_type": "code",
   "execution_count": 52,
   "id": "5e80b2d6",
   "metadata": {},
   "outputs": [
    {
     "data": {
      "text/plain": [
       "[100, 200, 700, 900, 500, 800]"
      ]
     },
     "execution_count": 52,
     "metadata": {},
     "output_type": "execute_result"
    }
   ],
   "source": [
    "ls1"
   ]
  },
  {
   "cell_type": "code",
   "execution_count": 53,
   "id": "be8932a0",
   "metadata": {},
   "outputs": [
    {
     "data": {
      "text/plain": [
       "[10]"
      ]
     },
     "execution_count": 53,
     "metadata": {},
     "output_type": "execute_result"
    }
   ],
   "source": [
    "ls2"
   ]
  },
  {
   "cell_type": "code",
   "execution_count": 56,
   "id": "60973535",
   "metadata": {},
   "outputs": [
    {
     "data": {
      "text/plain": [
       "200"
      ]
     },
     "execution_count": 56,
     "metadata": {},
     "output_type": "execute_result"
    }
   ],
   "source": [
    "ls1.pop(1)"
   ]
  },
  {
   "cell_type": "code",
   "execution_count": 57,
   "id": "3bf1632c",
   "metadata": {},
   "outputs": [],
   "source": [
    "ls1.remove(900)"
   ]
  },
  {
   "cell_type": "code",
   "execution_count": 58,
   "id": "e0452295",
   "metadata": {},
   "outputs": [
    {
     "data": {
      "text/plain": [
       "[100, 700, 500, 800]"
      ]
     },
     "execution_count": 58,
     "metadata": {},
     "output_type": "execute_result"
    }
   ],
   "source": [
    "ls1"
   ]
  },
  {
   "cell_type": "code",
   "execution_count": 59,
   "id": "4bbcf0db",
   "metadata": {},
   "outputs": [
    {
     "data": {
      "text/plain": [
       "[10]"
      ]
     },
     "execution_count": 59,
     "metadata": {},
     "output_type": "execute_result"
    }
   ],
   "source": [
    "ls2"
   ]
  },
  {
   "cell_type": "code",
   "execution_count": 60,
   "id": "92cee942",
   "metadata": {},
   "outputs": [],
   "source": [
    "ls2.reverse()"
   ]
  },
  {
   "cell_type": "code",
   "execution_count": 61,
   "id": "3cb7e432",
   "metadata": {},
   "outputs": [
    {
     "data": {
      "text/plain": [
       "[10]"
      ]
     },
     "execution_count": 61,
     "metadata": {},
     "output_type": "execute_result"
    }
   ],
   "source": [
    "ls2"
   ]
  },
  {
   "cell_type": "code",
   "execution_count": 62,
   "id": "768be2b4",
   "metadata": {},
   "outputs": [],
   "source": [
    "ls1.reverse()"
   ]
  },
  {
   "cell_type": "code",
   "execution_count": 63,
   "id": "d3f240e0",
   "metadata": {},
   "outputs": [
    {
     "data": {
      "text/plain": [
       "[800, 500, 700, 100]"
      ]
     },
     "execution_count": 63,
     "metadata": {},
     "output_type": "execute_result"
    }
   ],
   "source": [
    "ls1"
   ]
  },
  {
   "cell_type": "code",
   "execution_count": 64,
   "id": "03a104fe",
   "metadata": {},
   "outputs": [],
   "source": [
    "ls1.sort()"
   ]
  },
  {
   "cell_type": "code",
   "execution_count": 65,
   "id": "0ab4f044",
   "metadata": {},
   "outputs": [
    {
     "data": {
      "text/plain": [
       "[100, 500, 700, 800]"
      ]
     },
     "execution_count": 65,
     "metadata": {},
     "output_type": "execute_result"
    }
   ],
   "source": [
    "ls1"
   ]
  },
  {
   "cell_type": "code",
   "execution_count": 66,
   "id": "cd8acfa0",
   "metadata": {},
   "outputs": [
    {
     "data": {
      "text/plain": [
       "[10]"
      ]
     },
     "execution_count": 66,
     "metadata": {},
     "output_type": "execute_result"
    }
   ],
   "source": [
    "ls2"
   ]
  },
  {
   "cell_type": "code",
   "execution_count": 69,
   "id": "e5d7c7fa",
   "metadata": {},
   "outputs": [],
   "source": [
    "ls2.extend(ls1)"
   ]
  },
  {
   "cell_type": "code",
   "execution_count": 70,
   "id": "f3090fea",
   "metadata": {},
   "outputs": [
    {
     "data": {
      "text/plain": [
       "[100, 500, 700, 800]"
      ]
     },
     "execution_count": 70,
     "metadata": {},
     "output_type": "execute_result"
    }
   ],
   "source": [
    "ls1"
   ]
  },
  {
   "cell_type": "code",
   "execution_count": 71,
   "id": "4b787e52",
   "metadata": {},
   "outputs": [
    {
     "data": {
      "text/plain": [
       "[10, 100, 500, 700, 800]"
      ]
     },
     "execution_count": 71,
     "metadata": {},
     "output_type": "execute_result"
    }
   ],
   "source": [
    "ls2"
   ]
  },
  {
   "cell_type": "code",
   "execution_count": 72,
   "id": "734f901f",
   "metadata": {},
   "outputs": [],
   "source": [
    "ls1.append(ls2)"
   ]
  },
  {
   "cell_type": "code",
   "execution_count": 73,
   "id": "accd98ec",
   "metadata": {},
   "outputs": [
    {
     "data": {
      "text/plain": [
       "[100, 500, 700, 800, [10, 100, 500, 700, 800]]"
      ]
     },
     "execution_count": 73,
     "metadata": {},
     "output_type": "execute_result"
    }
   ],
   "source": [
    "ls1"
   ]
  },
  {
   "cell_type": "code",
   "execution_count": 74,
   "id": "cb33058d",
   "metadata": {},
   "outputs": [
    {
     "data": {
      "text/plain": [
       "[10, 100, 500, 700, 800]"
      ]
     },
     "execution_count": 74,
     "metadata": {},
     "output_type": "execute_result"
    }
   ],
   "source": [
    "ls2"
   ]
  },
  {
   "cell_type": "code",
   "execution_count": 75,
   "id": "ad30bad5",
   "metadata": {},
   "outputs": [
    {
     "data": {
      "text/plain": [
       "500"
      ]
     },
     "execution_count": 75,
     "metadata": {},
     "output_type": "execute_result"
    }
   ],
   "source": [
    "ls1[1]"
   ]
  },
  {
   "cell_type": "code",
   "execution_count": 76,
   "id": "6f8a457c",
   "metadata": {},
   "outputs": [
    {
     "data": {
      "text/plain": [
       "500"
      ]
     },
     "execution_count": 76,
     "metadata": {},
     "output_type": "execute_result"
    }
   ],
   "source": [
    "ls1[1]"
   ]
  },
  {
   "cell_type": "code",
   "execution_count": 77,
   "id": "bf242d0e",
   "metadata": {},
   "outputs": [
    {
     "ename": "TypeError",
     "evalue": "'int' object is not subscriptable",
     "output_type": "error",
     "traceback": [
      "\u001b[1;31m---------------------------------------------------------------------------\u001b[0m",
      "\u001b[1;31mTypeError\u001b[0m                                 Traceback (most recent call last)",
      "Cell \u001b[1;32mIn[77], line 1\u001b[0m\n\u001b[1;32m----> 1\u001b[0m \u001b[43mls1\u001b[49m\u001b[43m[\u001b[49m\u001b[38;5;241;43m0\u001b[39;49m\u001b[43m]\u001b[49m\u001b[43m[\u001b[49m\u001b[38;5;241;43m1\u001b[39;49m\u001b[43m]\u001b[49m\n",
      "\u001b[1;31mTypeError\u001b[0m: 'int' object is not subscriptable"
     ]
    }
   ],
   "source": [
    "ls1[0][1]"
   ]
  },
  {
   "cell_type": "code",
   "execution_count": 78,
   "id": "5579fada",
   "metadata": {},
   "outputs": [
    {
     "data": {
      "text/plain": [
       "[10, 100, 500, 700, 800]"
      ]
     },
     "execution_count": 78,
     "metadata": {},
     "output_type": "execute_result"
    }
   ],
   "source": [
    "ls1[4]"
   ]
  },
  {
   "cell_type": "code",
   "execution_count": 80,
   "id": "c6f51450",
   "metadata": {},
   "outputs": [
    {
     "data": {
      "text/plain": [
       "700"
      ]
     },
     "execution_count": 80,
     "metadata": {},
     "output_type": "execute_result"
    }
   ],
   "source": [
    "ls1[4][3]"
   ]
  },
  {
   "cell_type": "code",
   "execution_count": 81,
   "id": "d79000ac",
   "metadata": {},
   "outputs": [
    {
     "data": {
      "text/plain": [
       "<function list.clear()>"
      ]
     },
     "execution_count": 81,
     "metadata": {},
     "output_type": "execute_result"
    }
   ],
   "source": [
    "ls1.clear"
   ]
  },
  {
   "cell_type": "code",
   "execution_count": 82,
   "id": "7550c62e",
   "metadata": {},
   "outputs": [
    {
     "data": {
      "text/plain": [
       "<function list.clear()>"
      ]
     },
     "execution_count": 82,
     "metadata": {},
     "output_type": "execute_result"
    }
   ],
   "source": [
    "ls2.clear"
   ]
  },
  {
   "cell_type": "code",
   "execution_count": 83,
   "id": "b9a7a69d",
   "metadata": {},
   "outputs": [
    {
     "data": {
      "text/plain": [
       "[100, 500, 700, 800, [10, 100, 500, 700, 800]]"
      ]
     },
     "execution_count": 83,
     "metadata": {},
     "output_type": "execute_result"
    }
   ],
   "source": [
    "ls1"
   ]
  },
  {
   "cell_type": "code",
   "execution_count": 84,
   "id": "53914ef3",
   "metadata": {},
   "outputs": [
    {
     "data": {
      "text/plain": [
       "[10, 100, 500, 700, 800]"
      ]
     },
     "execution_count": 84,
     "metadata": {},
     "output_type": "execute_result"
    }
   ],
   "source": [
    "ls2"
   ]
  },
  {
   "cell_type": "code",
   "execution_count": 85,
   "id": "bc47720b",
   "metadata": {},
   "outputs": [
    {
     "name": "stdout",
     "output_type": "stream",
     "text": [
      "None\n",
      "None\n"
     ]
    }
   ],
   "source": [
    "print(ls1.clear())\n",
    "print(ls2.clear())"
   ]
  },
  {
   "cell_type": "code",
   "execution_count": 86,
   "id": "1903d8ab",
   "metadata": {},
   "outputs": [
    {
     "data": {
      "text/plain": [
       "[]"
      ]
     },
     "execution_count": 86,
     "metadata": {},
     "output_type": "execute_result"
    }
   ],
   "source": [
    "ls1"
   ]
  },
  {
   "cell_type": "code",
   "execution_count": 87,
   "id": "9c371a66",
   "metadata": {},
   "outputs": [
    {
     "data": {
      "text/plain": [
       "[]"
      ]
     },
     "execution_count": 87,
     "metadata": {},
     "output_type": "execute_result"
    }
   ],
   "source": [
    "ls2"
   ]
  },
  {
   "cell_type": "code",
   "execution_count": 88,
   "id": "ef87c25d",
   "metadata": {},
   "outputs": [],
   "source": [
    "ls1.clear()"
   ]
  },
  {
   "cell_type": "code",
   "execution_count": 89,
   "id": "68ba5689",
   "metadata": {},
   "outputs": [],
   "source": [
    "ls2.clear()"
   ]
  },
  {
   "cell_type": "code",
   "execution_count": 90,
   "id": "8ddd0810",
   "metadata": {},
   "outputs": [
    {
     "name": "stdout",
     "output_type": "stream",
     "text": [
      "[]\n",
      "[]\n"
     ]
    }
   ],
   "source": [
    "print(ls1)\n",
    "print(ls2)"
   ]
  },
  {
   "cell_type": "code",
   "execution_count": 1,
   "id": "2dce61cd",
   "metadata": {},
   "outputs": [],
   "source": [
    "ls1 = []"
   ]
  },
  {
   "cell_type": "code",
   "execution_count": 2,
   "id": "10477238",
   "metadata": {},
   "outputs": [
    {
     "data": {
      "text/plain": [
       "list"
      ]
     },
     "execution_count": 2,
     "metadata": {},
     "output_type": "execute_result"
    }
   ],
   "source": [
    "type(ls1)"
   ]
  },
  {
   "cell_type": "code",
   "execution_count": null,
   "id": "894b32de",
   "metadata": {},
   "outputs": [],
   "source": [
    "ls1."
   ]
  },
  {
   "cell_type": "code",
   "execution_count": 1,
   "id": "a5824e58",
   "metadata": {},
   "outputs": [],
   "source": [
    "# List\n",
    "l1 = [10,20,30]\n",
    "l2 = [10,20,30]"
   ]
  },
  {
   "cell_type": "code",
   "execution_count": 9,
   "id": "e89d0b3f",
   "metadata": {},
   "outputs": [
    {
     "data": {
      "text/plain": [
       "[20, 40, 60]"
      ]
     },
     "execution_count": 9,
     "metadata": {},
     "output_type": "execute_result"
    }
   ],
   "source": [
    "[l1[0]+l2[0],l1[1]+l2[1],l1[2]+l2[2]]"
   ]
  },
  {
   "cell_type": "code",
   "execution_count": 12,
   "id": "a0d76fe5",
   "metadata": {},
   "outputs": [
    {
     "data": {
      "text/plain": [
       "[10, 20, 30]"
      ]
     },
     "execution_count": 12,
     "metadata": {},
     "output_type": "execute_result"
    }
   ],
   "source": [
    "l1 or l2"
   ]
  },
  {
   "cell_type": "code",
   "execution_count": null,
   "id": "a101ba4c",
   "metadata": {},
   "outputs": [],
   "source": []
  }
 ],
 "metadata": {
  "kernelspec": {
   "display_name": "Python 3 (ipykernel)",
   "language": "python",
   "name": "python3"
  },
  "language_info": {
   "codemirror_mode": {
    "name": "ipython",
    "version": 3
   },
   "file_extension": ".py",
   "mimetype": "text/x-python",
   "name": "python",
   "nbconvert_exporter": "python",
   "pygments_lexer": "ipython3",
   "version": "3.10.9"
  }
 },
 "nbformat": 4,
 "nbformat_minor": 5
}
