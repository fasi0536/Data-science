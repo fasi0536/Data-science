{
 "cells": [
  {
   "cell_type": "code",
   "execution_count": 1,
   "id": "7f302832",
   "metadata": {},
   "outputs": [],
   "source": [
    "import numpy as np\n",
    "import pandas as pd"
   ]
  },
  {
   "cell_type": "markdown",
   "id": "96359023",
   "metadata": {},
   "source": [
    "## Series\n",
    "### Creating an empty Series"
   ]
  },
  {
   "cell_type": "code",
   "execution_count": 2,
   "id": "c6fa2860",
   "metadata": {},
   "outputs": [],
   "source": [
    "s1 = pd.Series(dtype=np.int16)"
   ]
  },
  {
   "cell_type": "code",
   "execution_count": 3,
   "id": "11beed41",
   "metadata": {},
   "outputs": [
    {
     "data": {
      "text/plain": [
       "Series([], dtype: int16)"
      ]
     },
     "execution_count": 3,
     "metadata": {},
     "output_type": "execute_result"
    }
   ],
   "source": [
    "s1"
   ]
  },
  {
   "cell_type": "markdown",
   "id": "0cfec997",
   "metadata": {},
   "source": [
    "### Creating a series using list object"
   ]
  },
  {
   "cell_type": "code",
   "execution_count": 5,
   "id": "94a1ea2f",
   "metadata": {},
   "outputs": [
    {
     "name": "stdout",
     "output_type": "stream",
     "text": [
      "0    100\n",
      "1    200\n",
      "2    300\n",
      "3    400\n",
      "4    500\n",
      "dtype: int64\n"
     ]
    }
   ],
   "source": [
    "p = pd.Series([100,200,300,400,500])\n",
    "print(p)"
   ]
  },
  {
   "cell_type": "code",
   "execution_count": 6,
   "id": "05cc97a3",
   "metadata": {},
   "outputs": [
    {
     "name": "stdout",
     "output_type": "stream",
     "text": [
      "1    100\n",
      "2    200\n",
      "3    300\n",
      "4    400\n",
      "5    500\n",
      "dtype: int32\n"
     ]
    }
   ],
   "source": [
    "p = pd.Series([100,200,300,400,500],index=[1,2,3,4,5],dtype=int)\n",
    "print(p)"
   ]
  },
  {
   "cell_type": "markdown",
   "id": "a8efe6f7",
   "metadata": {},
   "source": [
    "### Creating a series using dictionary"
   ]
  },
  {
   "cell_type": "code",
   "execution_count": 7,
   "id": "fa3ee82e",
   "metadata": {},
   "outputs": [],
   "source": [
    "d1 = {101:\"Faisal\",102:\"Shaik\",103:\"Fasi\"}\n",
    "d = pd.Series(d1)"
   ]
  },
  {
   "cell_type": "code",
   "execution_count": 8,
   "id": "698fdadd",
   "metadata": {},
   "outputs": [
    {
     "name": "stdout",
     "output_type": "stream",
     "text": [
      "101    Faisal\n",
      "102     Shaik\n",
      "103      Fasi\n",
      "dtype: object\n"
     ]
    }
   ],
   "source": [
    "print(d)"
   ]
  },
  {
   "cell_type": "markdown",
   "id": "80cc9dee",
   "metadata": {},
   "source": [
    "### Create a series using scaler value\n",
    "* If the series is created using scalar values we must define index. This index defines the length of series."
   ]
  },
  {
   "cell_type": "code",
   "execution_count": 2,
   "id": "4e57a883",
   "metadata": {},
   "outputs": [],
   "source": [
    "import pandas as pd"
   ]
  },
  {
   "cell_type": "code",
   "execution_count": 4,
   "id": "427661c2",
   "metadata": {},
   "outputs": [
    {
     "name": "stdout",
     "output_type": "stream",
     "text": [
      "1    536\n",
      "2    536\n",
      "3    536\n",
      "4    536\n",
      "dtype: int64\n"
     ]
    }
   ],
   "source": [
    "s1 = pd.Series(536,index=[1,2,3,4])\n",
    "print(s1)"
   ]
  },
  {
   "cell_type": "code",
   "execution_count": 9,
   "id": "be5ac29f",
   "metadata": {},
   "outputs": [],
   "source": [
    "s2 = pd.Series(\"Lift\",index=[5,4,3,2,1,0])"
   ]
  },
  {
   "cell_type": "code",
   "execution_count": 10,
   "id": "d713b34e",
   "metadata": {},
   "outputs": [
    {
     "data": {
      "text/plain": [
       "5    Lift\n",
       "4    Lift\n",
       "3    Lift\n",
       "2    Lift\n",
       "1    Lift\n",
       "0    Lift\n",
       "dtype: object"
      ]
     },
     "execution_count": 10,
     "metadata": {},
     "output_type": "execute_result"
    }
   ],
   "source": [
    "s2"
   ]
  },
  {
   "cell_type": "markdown",
   "id": "08bdf442",
   "metadata": {},
   "source": [
    "### Accessing Data From Series"
   ]
  },
  {
   "cell_type": "code",
   "execution_count": 12,
   "id": "95e29c9d",
   "metadata": {},
   "outputs": [
    {
     "data": {
      "text/plain": [
       "0    100\n",
       "1    200\n",
       "2    300\n",
       "3    400\n",
       "dtype: int64"
      ]
     },
     "execution_count": 12,
     "metadata": {},
     "output_type": "execute_result"
    }
   ],
   "source": [
    "a1 = pd.Series([100,200,300,400])\n",
    "a1"
   ]
  },
  {
   "cell_type": "code",
   "execution_count": 13,
   "id": "8d09c5ae",
   "metadata": {},
   "outputs": [
    {
     "name": "stdout",
     "output_type": "stream",
     "text": [
      "100 200 300 400\n"
     ]
    }
   ],
   "source": [
    "print(a1[0],a1[1],a1[2],a1[3])"
   ]
  },
  {
   "cell_type": "code",
   "execution_count": 15,
   "id": "db296c09",
   "metadata": {},
   "outputs": [
    {
     "name": "stdout",
     "output_type": "stream",
     "text": [
      "a    100\n",
      "b    200\n",
      "c    300\n",
      "d    400\n",
      "dtype: int64\n"
     ]
    }
   ],
   "source": [
    "a2 = pd.Series([100,200,300,400],index=['a','b','c','d'])\n",
    "print(a2)"
   ]
  },
  {
   "cell_type": "code",
   "execution_count": 16,
   "id": "6fed9be9",
   "metadata": {},
   "outputs": [
    {
     "data": {
      "text/plain": [
       "400"
      ]
     },
     "execution_count": 16,
     "metadata": {},
     "output_type": "execute_result"
    }
   ],
   "source": [
    "a2[3]"
   ]
  },
  {
   "cell_type": "code",
   "execution_count": 17,
   "id": "25434ebc",
   "metadata": {},
   "outputs": [
    {
     "data": {
      "text/plain": [
       "400"
      ]
     },
     "execution_count": 17,
     "metadata": {},
     "output_type": "execute_result"
    }
   ],
   "source": [
    "a2['d']"
   ]
  },
  {
   "cell_type": "code",
   "execution_count": 18,
   "id": "a72348eb",
   "metadata": {},
   "outputs": [
    {
     "data": {
      "text/plain": [
       "b    200\n",
       "c    300\n",
       "d    400\n",
       "dtype: int64"
      ]
     },
     "execution_count": 18,
     "metadata": {},
     "output_type": "execute_result"
    }
   ],
   "source": [
    "a2[[1,2,3]]"
   ]
  },
  {
   "cell_type": "markdown",
   "id": "245620d0",
   "metadata": {},
   "source": [
    "### Accessing Multiple elements or values from series"
   ]
  },
  {
   "cell_type": "code",
   "execution_count": 19,
   "id": "664f779a",
   "metadata": {},
   "outputs": [
    {
     "data": {
      "text/plain": [
       "a    100\n",
       "b    200\n",
       "c    300\n",
       "dtype: int64"
      ]
     },
     "execution_count": 19,
     "metadata": {},
     "output_type": "execute_result"
    }
   ],
   "source": [
    "a2[['a','b','c']]"
   ]
  },
  {
   "cell_type": "code",
   "execution_count": 21,
   "id": "65f3512e",
   "metadata": {},
   "outputs": [
    {
     "name": "stdout",
     "output_type": "stream",
     "text": [
      "0     10\n",
      "1     20\n",
      "2     30\n",
      "3     40\n",
      "4     50\n",
      "5     60\n",
      "6     70\n",
      "7     80\n",
      "8     90\n",
      "9    100\n",
      "dtype: int64\n"
     ]
    }
   ],
   "source": [
    "a3 = pd.Series(range(10,101,10))\n",
    "print(a3)"
   ]
  },
  {
   "cell_type": "markdown",
   "id": "aa1b8a1d",
   "metadata": {},
   "source": [
    "### Series allows slicing, to reaad multiple values"
   ]
  },
  {
   "cell_type": "code",
   "execution_count": 22,
   "id": "a70ad16c",
   "metadata": {},
   "outputs": [
    {
     "data": {
      "text/plain": [
       "1    20\n",
       "2    30\n",
       "3    40\n",
       "dtype: int64"
      ]
     },
     "execution_count": 22,
     "metadata": {},
     "output_type": "execute_result"
    }
   ],
   "source": [
    "a3[1:4]"
   ]
  },
  {
   "cell_type": "code",
   "execution_count": 26,
   "id": "82fa1f1d",
   "metadata": {},
   "outputs": [
    {
     "data": {
      "text/plain": [
       "5     60\n",
       "6     70\n",
       "7     80\n",
       "8     90\n",
       "9    100\n",
       "dtype: int64"
      ]
     },
     "execution_count": 26,
     "metadata": {},
     "output_type": "execute_result"
    }
   ],
   "source": [
    "a3[5:11]"
   ]
  },
  {
   "cell_type": "code",
   "execution_count": 28,
   "id": "d5b730c4",
   "metadata": {},
   "outputs": [
    {
     "data": {
      "text/plain": [
       "0    10\n",
       "1    20\n",
       "2    30\n",
       "3    40\n",
       "4    50\n",
       "5    60\n",
       "6    70\n",
       "7    80\n",
       "8    90\n",
       "dtype: int64"
      ]
     },
     "execution_count": 28,
     "metadata": {},
     "output_type": "execute_result"
    }
   ],
   "source": [
    "a3[:-1]"
   ]
  },
  {
   "cell_type": "code",
   "execution_count": 29,
   "id": "8a18893a",
   "metadata": {},
   "outputs": [
    {
     "data": {
      "text/plain": [
       "9    100\n",
       "dtype: int64"
      ]
     },
     "execution_count": 29,
     "metadata": {},
     "output_type": "execute_result"
    }
   ],
   "source": [
    "a3[-1:]"
   ]
  },
  {
   "cell_type": "code",
   "execution_count": 31,
   "id": "e9fa3c24",
   "metadata": {},
   "outputs": [
    {
     "data": {
      "text/plain": [
       "Series([], dtype: int64)"
      ]
     },
     "execution_count": 31,
     "metadata": {},
     "output_type": "execute_result"
    }
   ],
   "source": [
    "a3[-1:6]"
   ]
  },
  {
   "cell_type": "markdown",
   "id": "36041db3",
   "metadata": {},
   "source": [
    "## Data Frame\n",
    "### Creating an empty data frame"
   ]
  },
  {
   "cell_type": "code",
   "execution_count": 32,
   "id": "a945b8e9",
   "metadata": {},
   "outputs": [
    {
     "name": "stdout",
     "output_type": "stream",
     "text": [
      "Empty DataFrame\n",
      "Columns: []\n",
      "Index: []\n"
     ]
    }
   ],
   "source": [
    "df = pd.DataFrame([])\n",
    "print(df)"
   ]
  },
  {
   "cell_type": "code",
   "execution_count": 33,
   "id": "cd28667e",
   "metadata": {},
   "outputs": [
    {
     "data": {
      "text/html": [
       "<div>\n",
       "<style scoped>\n",
       "    .dataframe tbody tr th:only-of-type {\n",
       "        vertical-align: middle;\n",
       "    }\n",
       "\n",
       "    .dataframe tbody tr th {\n",
       "        vertical-align: top;\n",
       "    }\n",
       "\n",
       "    .dataframe thead th {\n",
       "        text-align: right;\n",
       "    }\n",
       "</style>\n",
       "<table border=\"1\" class=\"dataframe\">\n",
       "  <thead>\n",
       "    <tr style=\"text-align: right;\">\n",
       "      <th></th>\n",
       "    </tr>\n",
       "  </thead>\n",
       "  <tbody>\n",
       "  </tbody>\n",
       "</table>\n",
       "</div>"
      ],
      "text/plain": [
       "Empty DataFrame\n",
       "Columns: []\n",
       "Index: []"
      ]
     },
     "execution_count": 33,
     "metadata": {},
     "output_type": "execute_result"
    }
   ],
   "source": [
    "df"
   ]
  },
  {
   "cell_type": "markdown",
   "id": "317d9d15",
   "metadata": {},
   "source": [
    "### Creating a data frame using dictionary"
   ]
  },
  {
   "cell_type": "code",
   "execution_count": 39,
   "id": "3e8c3535",
   "metadata": {},
   "outputs": [
    {
     "ename": "SyntaxError",
     "evalue": "invalid syntax (3122782172.py, line 1)",
     "output_type": "error",
     "traceback": [
      "\u001b[1;36m  Cell \u001b[1;32mIn[39], line 1\u001b[1;36m\u001b[0m\n\u001b[1;33m    df1 = pd.DataFrame{101:[\"Faisal\"],102:[\"Shaik\"],103:[\"Fasi\"]}\u001b[0m\n\u001b[1;37m                      ^\u001b[0m\n\u001b[1;31mSyntaxError\u001b[0m\u001b[1;31m:\u001b[0m invalid syntax\n"
     ]
    }
   ],
   "source": [
    "df1 = pd.DataFrame{101:[\"Faisal\"],102:[\"Shaik\"],103:[\"Fasi\"]}\n",
    "print(df1)"
   ]
  },
  {
   "cell_type": "code",
   "execution_count": 40,
   "id": "a50c0003",
   "metadata": {},
   "outputs": [
    {
     "data": {
      "text/html": [
       "<div>\n",
       "<style scoped>\n",
       "    .dataframe tbody tr th:only-of-type {\n",
       "        vertical-align: middle;\n",
       "    }\n",
       "\n",
       "    .dataframe tbody tr th {\n",
       "        vertical-align: top;\n",
       "    }\n",
       "\n",
       "    .dataframe thead th {\n",
       "        text-align: right;\n",
       "    }\n",
       "</style>\n",
       "<table border=\"1\" class=\"dataframe\">\n",
       "  <thead>\n",
       "    <tr style=\"text-align: right;\">\n",
       "      <th></th>\n",
       "      <th>Name</th>\n",
       "      <th>Phone no.</th>\n",
       "    </tr>\n",
       "  </thead>\n",
       "  <tbody>\n",
       "    <tr>\n",
       "      <th>0</th>\n",
       "      <td>Faisal</td>\n",
       "      <td>922299229</td>\n",
       "    </tr>\n",
       "    <tr>\n",
       "      <th>1</th>\n",
       "      <td>Shaik</td>\n",
       "      <td>929393393</td>\n",
       "    </tr>\n",
       "    <tr>\n",
       "      <th>2</th>\n",
       "      <td>Fasi</td>\n",
       "      <td>932949494</td>\n",
       "    </tr>\n",
       "  </tbody>\n",
       "</table>\n",
       "</div>"
      ],
      "text/plain": [
       "     Name  Phone no.\n",
       "0  Faisal  922299229\n",
       "1   Shaik  929393393\n",
       "2    Fasi  932949494"
      ]
     },
     "execution_count": 40,
     "metadata": {},
     "output_type": "execute_result"
    }
   ],
   "source": [
    "df2 = {\"Name\":[\"Faisal\",\"Shaik\",\"Fasi\"],\"Phone no.\":[922299229,929393393,932949494]}\n",
    "pd.DataFrame(df2)"
   ]
  },
  {
   "cell_type": "code",
   "execution_count": null,
   "id": "9e9d723e",
   "metadata": {},
   "outputs": [],
   "source": []
  }
 ],
 "metadata": {
  "kernelspec": {
   "display_name": "Python 3 (ipykernel)",
   "language": "python",
   "name": "python3"
  },
  "language_info": {
   "codemirror_mode": {
    "name": "ipython",
    "version": 3
   },
   "file_extension": ".py",
   "mimetype": "text/x-python",
   "name": "python",
   "nbconvert_exporter": "python",
   "pygments_lexer": "ipython3",
   "version": "3.10.9"
  }
 },
 "nbformat": 4,
 "nbformat_minor": 5
}
